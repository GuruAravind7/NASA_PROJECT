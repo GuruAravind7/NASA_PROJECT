{
 "cells": [
  {
   "cell_type": "code",
   "execution_count": 1,
   "id": "79dbb09f-29b9-45d9-bb1c-bcfc533d1008",
   "metadata": {},
   "outputs": [
    {
     "name": "stdout",
     "output_type": "stream",
     "text": [
      "Requirement already satisfied: requests in c:\\users\\gurus\\anaconda3\\lib\\site-packages (2.32.3)\n",
      "Requirement already satisfied: charset-normalizer<4,>=2 in c:\\users\\gurus\\anaconda3\\lib\\site-packages (from requests) (3.3.2)\n",
      "Requirement already satisfied: idna<4,>=2.5 in c:\\users\\gurus\\anaconda3\\lib\\site-packages (from requests) (3.7)\n",
      "Requirement already satisfied: urllib3<3,>=1.21.1 in c:\\users\\gurus\\anaconda3\\lib\\site-packages (from requests) (2.2.3)\n",
      "Requirement already satisfied: certifi>=2017.4.17 in c:\\users\\gurus\\anaconda3\\lib\\site-packages (from requests) (2025.1.31)\n"
     ]
    }
   ],
   "source": [
    "!pip install requests"
   ]
  },
  {
   "cell_type": "code",
   "execution_count": 3,
   "id": "1ac51def-42a7-4c7d-9bfe-111e499894f6",
   "metadata": {},
   "outputs": [
    {
     "data": {
      "text/plain": [
       "<Response [200]>"
      ]
     },
     "execution_count": 3,
     "metadata": {},
     "output_type": "execute_result"
    }
   ],
   "source": [
    "API_KEY = \"9WdGBWrQRU7rDR685nLCDgu79JEuuJ09NfZxxYJy\"\n",
    "\n",
    "import requests\n",
    "url = f\"https://api.nasa.gov/neo/rest/v1/feed?start_date=2024-01-01&end_date=2024-01-06&api_key={API_KEY}\"\n",
    "response = requests.get(url)\n",
    "response"
   ]
  },
  {
   "cell_type": "code",
   "execution_count": 5,
   "id": "b1eefd5c-58cd-4314-a58f-4c311ea73762",
   "metadata": {},
   "outputs": [],
   "source": [
    "data = response.json()\n"
   ]
  },
  {
   "cell_type": "code",
   "execution_count": 115,
   "id": "bf173746-2b6e-48a3-b2dc-e4cce979f5d2",
   "metadata": {},
   "outputs": [
    {
     "data": {
      "text/plain": [
       "101"
      ]
     },
     "execution_count": 115,
     "metadata": {},
     "output_type": "execute_result"
    }
   ],
   "source": [
    "asteroids_data = []\n",
    "target = 100\n",
    "\n",
    "url = f\"https://api.nasa.gov/neo/rest/v1/feed?start_date=2024-01-15&end_date=2024-01-20&api_key={API_KEY}\"\n",
    "\n",
    "response = requests.get(url)\n",
    "data = response.json()\n",
    "details = data['near_earth_objects']\n",
    "while len(asteroids_data) < target:\n",
    "      for date,ast_details in details.items():\n",
    "          for ast in ast_details:\n",
    "            asteroids_data.append(dict(\n",
    "                id = int(ast['id']), # convert format accordingly\n",
    "                name = ast['name'],\n",
    "                magnitude = ast['absolute_magnitude_h'],\n",
    "                dia_min = ast['estimated_diameter']['kilometers']['estimated_diameter_min']\n",
    "\n",
    "            ))\n",
    "\n",
    "            if len(asteroids_data) == target:\n",
    "                break\n",
    "          if len(asteroids_data) == target:\n",
    "                break\n",
    "      url = data['links']['next']\n",
    "data['element_count']"
   ]
  },
  {
   "cell_type": "code",
   "execution_count": 123,
   "id": "582bfc45-17e1-4c00-af48-eb6ba123283a",
   "metadata": {},
   "outputs": [
    {
     "name": "stdout",
     "output_type": "stream",
     "text": [
      "Collected 1877 asteroid records.\n"
     ]
    }
   ],
   "source": [
    "import requests\n",
    "from concurrent.futures import ThreadPoolExecutor, as_completed\n",
    "from datetime import datetime\n",
    "\n",
    "API_KEY = \"9WdGBWrQRU7rDR685nLCDgu79JEuuJ09NfZxxYJy\"  # Replace with your actual NASA API key\n",
    "target = 10000\n",
    "page_size = 100\n",
    "total_pages = target // page_size\n",
    "\n",
    "def fetch_page(page_num):\n",
    "    url = f\"https://api.nasa.gov/neo/rest/v1/neo/browse?page={page_num}&size={page_size}&api_key={API_KEY}\"\n",
    "    response = requests.get(url)\n",
    "    data = response.json()\n",
    "    asteroids = []\n",
    "\n",
    "    for ast in data.get('near_earth_objects', []):\n",
    "        try:\n",
    "            close_approach = ast['close_approach_data'][0] if ast['close_approach_data'] else None\n",
    "            if close_approach:\n",
    "                asteroids.append(dict(\n",
    "                    id=int(ast['id']),\n",
    "                    name=ast['name'],\n",
    "                    magnitude=float(ast['absolute_magnitude_h']),\n",
    "                    dia_min=float(ast['estimated_diameter']['kilometers']['estimated_diameter_min']),\n",
    "                    dia_max=float(ast['estimated_diameter']['kilometers']['estimated_diameter_max']),\n",
    "                    neo_reference_id=int(ast['neo_reference_id']),\n",
    "                    is_potentially_hazardous_asteroid=ast['is_potentially_hazardous_asteroid'],\n",
    "                    relative_velocity=float(close_approach['relative_velocity']['kilometers_per_hour']),\n",
    "                    astronomical=float(close_approach['miss_distance']['astronomical']),\n",
    "                    miss_distance_km=float(close_approach['miss_distance']['kilometers']),\n",
    "                    miss_distance_lunar=float(close_approach['miss_distance']['lunar']),\n",
    "                    orbiting_body=close_approach['orbiting_body'],\n",
    "                    close_approach_date=datetime.strptime(close_approach['close_approach_date'], '%Y-%m-%d').strftime('%d %B %Y')\n",
    "                ))\n",
    "        except (KeyError, IndexError, ValueError, TypeError) as e:\n",
    "            print(f\"Skipped malformed asteroid data: {e}\")\n",
    "\n",
    "    return asteroids\n",
    "\n",
    "asteroids_data = []\n",
    "with ThreadPoolExecutor(max_workers=10) as executor:\n",
    "    futures = [executor.submit(fetch_page, i) for i in range(total_pages)]\n",
    "    for future in as_completed(futures):\n",
    "        asteroids_data.extend(future.result())\n",
    "\n",
    "print(f\"Collected {len(asteroids_data)} asteroid records.\")\n"
   ]
  },
  {
   "cell_type": "code",
   "execution_count": 125,
   "id": "8130abf4-cf06-4332-bb5e-89a19d36bf52",
   "metadata": {},
   "outputs": [
    {
     "name": "stdout",
     "output_type": "stream",
     "text": [
      "Fetching pages 0 to 9...\n",
      "Fetching pages 10 to 19...\n",
      "Fetching pages 20 to 29...\n",
      "Fetching pages 30 to 39...\n",
      "Fetching pages 40 to 49...\n",
      "Fetching pages 50 to 59...\n",
      "Fetching pages 60 to 69...\n",
      "Fetching pages 70 to 79...\n",
      "Fetching pages 80 to 89...\n",
      "Fetching pages 90 to 99...\n",
      "Fetching pages 100 to 109...\n",
      "Fetching pages 110 to 119...\n",
      "Fetching pages 120 to 129...\n",
      "Fetching pages 130 to 139...\n",
      "Fetching pages 140 to 149...\n",
      "Fetching pages 150 to 159...\n",
      "Fetching pages 160 to 169...\n",
      "Fetching pages 170 to 179...\n",
      "Fetching pages 180 to 189...\n",
      "Fetching pages 190 to 199...\n",
      "Fetching pages 200 to 209...\n",
      "Fetching pages 210 to 219...\n",
      "Fetching pages 220 to 229...\n",
      "Fetching pages 230 to 239...\n",
      "Fetching pages 240 to 249...\n",
      "Fetching pages 250 to 259...\n",
      "Fetching pages 260 to 269...\n",
      "Fetching pages 270 to 279...\n",
      "Fetching pages 280 to 289...\n",
      "Fetching pages 290 to 299...\n",
      "Fetching pages 300 to 309...\n",
      "Fetching pages 310 to 319...\n",
      "Fetching pages 320 to 329...\n",
      "Fetching pages 330 to 339...\n",
      "Fetching pages 340 to 349...\n",
      "Fetching pages 350 to 359...\n",
      "Fetching pages 360 to 369...\n",
      "Fetching pages 370 to 379...\n",
      "Fetching pages 380 to 389...\n",
      "Fetching pages 390 to 399...\n",
      "Fetching pages 400 to 409...\n",
      "Fetching pages 410 to 419...\n",
      "Fetching pages 420 to 429...\n",
      "Fetching pages 430 to 439...\n",
      "Fetching pages 440 to 449...\n",
      "Fetching pages 450 to 459...\n",
      "Fetching pages 460 to 469...\n",
      "Fetching pages 470 to 479...\n",
      "Fetching pages 480 to 489...\n",
      "Fetching pages 490 to 499...\n",
      "Fetching pages 500 to 509...\n",
      "Fetching pages 510 to 519...\n",
      "✅ Collected 10013 valid asteroid records.\n"
     ]
    }
   ],
   "source": [
    "import requests\n",
    "from concurrent.futures import ThreadPoolExecutor, as_completed\n",
    "from datetime import datetime\n",
    "\n",
    "API_KEY = \"9WdGBWrQRU7rDR685nLCDgu79JEuuJ09NfZxxYJy\"  # Replace this with your actual NASA API key\n",
    "target = 10000\n",
    "page_size = 100\n",
    "max_workers = 10\n",
    "\n",
    "def fetch_and_filter(page_num):\n",
    "    url = f\"https://api.nasa.gov/neo/rest/v1/neo/browse?page={page_num}&size={page_size}&api_key={API_KEY}\"\n",
    "    response = requests.get(url)\n",
    "    data = response.json()\n",
    "    asteroids = []\n",
    "\n",
    "    for ast in data.get('near_earth_objects', []):\n",
    "        try:\n",
    "            if not ast['close_approach_data']:\n",
    "                continue  # Skip if no approach data\n",
    "\n",
    "            ca_data = ast['close_approach_data'][0]\n",
    "            asteroid = {\n",
    "                \"id\": int(ast['id']),\n",
    "                \"name\": ast['name'],\n",
    "                \"magnitude\": float(ast['absolute_magnitude_h']),\n",
    "                \"dia_min\": float(ast['estimated_diameter']['kilometers']['estimated_diameter_min']),\n",
    "                \"dia_max\": float(ast['estimated_diameter']['kilometers']['estimated_diameter_max']),\n",
    "                \"neo_reference_id\": int(ast['neo_reference_id']),\n",
    "                \"is_potentially_hazardous_asteroid\": ast['is_potentially_hazardous_asteroid'],\n",
    "                \"relative_velocity\": float(ca_data['relative_velocity']['kilometers_per_hour']),\n",
    "                \"astronomical\": float(ca_data['miss_distance']['astronomical']),\n",
    "                \"miss_distance_km\": float(ca_data['miss_distance']['kilometers']),\n",
    "                \"miss_distance_lunar\": float(ca_data['miss_distance']['lunar']),\n",
    "                \"orbiting_body\": ca_data['orbiting_body'],\n",
    "                \"close_approach_date\": datetime.strptime(ca_data['close_approach_date'], '%Y-%m-%d').strftime('%d %B %Y')\n",
    "            }\n",
    "            asteroids.append(asteroid)\n",
    "        except (KeyError, IndexError, ValueError, TypeError) as e:\n",
    "            continue  # Skip malformed entries\n",
    "\n",
    "    return asteroids\n",
    "\n",
    "asteroids_data = []\n",
    "page = 0\n",
    "\n",
    "while len(asteroids_data) < target:\n",
    "    print(f\"Fetching pages {page} to {page + max_workers - 1}...\")\n",
    "    with ThreadPoolExecutor(max_workers=max_workers) as executor:\n",
    "        futures = [executor.submit(fetch_and_filter, p) for p in range(page, page + max_workers)]\n",
    "        for future in as_completed(futures):\n",
    "            asteroids_data.extend(future.result())\n",
    "            if len(asteroids_data) >= target:\n",
    "                break\n",
    "    page += max_workers  # Move to the next batch of pages\n",
    "\n",
    "print(f\"✅ Collected {len(asteroids_data)} valid asteroid records.\")"
   ]
  },
  {
   "cell_type": "code",
   "execution_count": 69,
   "id": "aef07b91-5b71-4ecb-b22e-3bce8af2815f",
   "metadata": {},
   "outputs": [
    {
     "data": {
      "text/plain": [
       "{'next': 'http://api.nasa.gov/neo/rest/v1/feed?start_date=2024-01-06&end_date=2024-01-11&detailed=false&api_key=9WdGBWrQRU7rDR685nLCDgu79JEuuJ09NfZxxYJy',\n",
       " 'previous': 'http://api.nasa.gov/neo/rest/v1/feed?start_date=2023-12-27&end_date=2024-01-01&detailed=false&api_key=9WdGBWrQRU7rDR685nLCDgu79JEuuJ09NfZxxYJy',\n",
       " 'self': 'http://api.nasa.gov/neo/rest/v1/feed?start_date=2024-01-01&end_date=2024-01-06&detailed=false&api_key=9WdGBWrQRU7rDR685nLCDgu79JEuuJ09NfZxxYJy'}"
      ]
     },
     "execution_count": 69,
     "metadata": {},
     "output_type": "execute_result"
    }
   ],
   "source": [
    "data['links']"
   ]
  },
  {
   "cell_type": "code",
   "execution_count": 137,
   "id": "1c228e91-e1e2-4163-bcf5-80abc8facdb9",
   "metadata": {},
   "outputs": [
    {
     "data": {
      "text/plain": [
       "10013"
      ]
     },
     "execution_count": 137,
     "metadata": {},
     "output_type": "execute_result"
    }
   ],
   "source": [
    "len(asteroids_data)"
   ]
  },
  {
   "cell_type": "code",
   "execution_count": 9,
   "id": "d896e665-f396-47c3-9a75-ad52ece0a6f4",
   "metadata": {},
   "outputs": [
    {
     "name": "stdout",
     "output_type": "stream",
     "text": [
      "Requirement already satisfied: pyodbc in c:\\users\\gurus\\anaconda3\\lib\\site-packages (5.1.0)\n",
      "Note: you may need to restart the kernel to use updated packages.\n"
     ]
    }
   ],
   "source": [
    "pip install pyodbc"
   ]
  },
  {
   "cell_type": "code",
   "execution_count": 75,
   "id": "52a7068f-63cc-4601-bde1-c4d7c48ebd82",
   "metadata": {},
   "outputs": [],
   "source": [
    "#used previously but the data is incorrect\n",
    "\n",
    "from datetime import datetime\n",
    "asteroids_data = []\n",
    "target = 10000\n",
    "url = f\"https://api.nasa.gov/neo/rest/v1/feed?start_date=2024-01-01&end_date=2024-01-06&api_key={API_KEY}\"\n",
    "\n",
    "response = requests.get(url)\n",
    "data = response.json()\n",
    "details = data['near_earth_objects']\n",
    "while len(asteroids_data) < target:\n",
    "      for date,ast_details in details.items():\n",
    "          for ast in ast_details:  \n",
    "              \n",
    "            asteroids_data.append(dict(\n",
    "                id = int(ast['id']), # convert format accordingly\n",
    "                name = ast['name'],\n",
    "                magnitude = float(ast['absolute_magnitude_h']),\n",
    "                dia_min = float(ast['estimated_diameter']['kilometers']['estimated_diameter_min']),\n",
    "                dia_max = float(ast['estimated_diameter']['kilometers']['estimated_diameter_max']),\n",
    "                neo_reference_id = int(ast['neo_reference_id']),\n",
    "                is_potentially_hazardous_asteroid = ast['is_potentially_hazardous_asteroid'],\n",
    "                relative_velocity = float(ast['close_approach_data'][0]['relative_velocity']['kilometers_per_hour']),\n",
    "                astronomical =float(ast['close_approach_data'][0]['miss_distance']['astronomical']),\n",
    "                miss_distance_km = float(ast['close_approach_data'][0]['miss_distance']['kilometers']),\n",
    "                miss_distance_lunar = float(ast['close_approach_data'][0]['miss_distance']['lunar']),\n",
    "                orbiting_body = ast['close_approach_data'][0]['orbiting_body'],\n",
    "                close_approach_date = datetime.strptime(ast['close_approach_data'][0]['close_approach_date'], '%Y-%m-%d').strftime('%d %B %Y')\n",
    "                                \n",
    "            ))\n",
    "\n",
    "            if len(asteroids_data) == target:\n",
    "                break\n",
    "          if len(asteroids_data) == target:\n",
    "                break\n",
    "      url = data['links']['next']"
   ]
  },
  {
   "cell_type": "code",
   "execution_count": 77,
   "id": "a870ca26-29ab-4196-8862-76ed6eca0964",
   "metadata": {},
   "outputs": [
    {
     "data": {
      "text/plain": [
       "10000"
      ]
     },
     "execution_count": 77,
     "metadata": {},
     "output_type": "execute_result"
    }
   ],
   "source": [
    "len(asteroids_data)"
   ]
  },
  {
   "cell_type": "code",
   "execution_count": 79,
   "id": "97508d2e-b0fb-4377-a6ed-910e348ad77f",
   "metadata": {},
   "outputs": [
    {
     "name": "stdout",
     "output_type": "stream",
     "text": [
      "Requirement already satisfied: mysql-connector-python in c:\\users\\gurus\\anaconda3\\lib\\site-packages (9.3.0)\n",
      "Requirement already satisfied: sqlalchemy in c:\\users\\gurus\\anaconda3\\lib\\site-packages (2.0.34)\n",
      "Requirement already satisfied: pymysql in c:\\users\\gurus\\anaconda3\\lib\\site-packages (1.1.1)\n",
      "Requirement already satisfied: typing-extensions>=4.6.0 in c:\\users\\gurus\\anaconda3\\lib\\site-packages (from sqlalchemy) (4.11.0)\n",
      "Requirement already satisfied: greenlet!=0.4.17 in c:\\users\\gurus\\anaconda3\\lib\\site-packages (from sqlalchemy) (3.0.1)\n"
     ]
    }
   ],
   "source": [
    "!pip install mysql-connector-python sqlalchemy pymysql"
   ]
  },
  {
   "cell_type": "code",
   "execution_count": 81,
   "id": "c1c058e6-f370-4a3a-beac-e9ff19719998",
   "metadata": {},
   "outputs": [],
   "source": [
    "from sqlalchemy import create_engine\n",
    "from urllib.parse import quote_plus\n",
    "\n",
    "# Connection info\n",
    "username = 'root'\n",
    "password = 'Ramya@123'\n",
    "host = '127.0.0.1'\n",
    "port = 3306\n",
    "database = 'sys'\n",
    "\n",
    "# Encode password to handle special characters like '@'\n",
    "encoded_password = quote_plus(password)\n",
    "\n",
    "# Create the engine\n",
    "engine = create_engine(f\"mysql+pymysql://{username}:{encoded_password}@{host}:{port}/{database}\")"
   ]
  },
  {
   "cell_type": "code",
   "execution_count": 43,
   "id": "7aa904db-b17a-44d1-87a6-1e478077fa38",
   "metadata": {},
   "outputs": [],
   "source": [
    "cursor.execute(\"\"\"\n",
    "CREATE TABLE IF NOT EXISTS asteroids (\n",
    "    ID BIGINT ,\n",
    "    NAME VARCHAR(100),\n",
    "    absolute_magnitude_h FLOAT,\n",
    "    estimated_diameter_min_km FLOAT,\n",
    "    estimated_diameter_max_km FLOAT,\n",
    "    is_potentially_hazardous_asteroid BOOLEAN\n",
    ")\n",
    "\"\"\")"
   ]
  },
  {
   "cell_type": "code",
   "execution_count": 47,
   "id": "99ad3902-41b6-4e69-9ae5-3d340f90da6b",
   "metadata": {},
   "outputs": [],
   "source": [
    "cursor.execute(\"\"\"\n",
    "CREATE TABLE IF NOT EXISTS close_approach (\n",
    "\n",
    "    neo_reference_id BIGINT,\n",
    "    close_approach_date DATE,\n",
    "    relative_velocity_kmph FLOAT,\n",
    "    astronomical FLOAT,\n",
    "    miss_distance_km FLOAT,\n",
    "    miss_distance_lunar FLOAT,\n",
    "    orbiting_body VARCHAR(50)\n",
    "    \n",
    ")\n",
    "\"\"\")"
   ]
  },
  {
   "cell_type": "code",
   "execution_count": 49,
   "id": "40bcded8-d1cc-4439-87a0-5f4e97a84065",
   "metadata": {},
   "outputs": [],
   "source": [
    "import mysql.connector\n",
    "\n",
    "# Replace these values with your actual MySQL credentials\n",
    "conn = mysql.connector.connect(\n",
    "    host='localhost',\n",
    "    user='root',\n",
    "    password='Ramya@123',           # your MySQL password\n",
    "    database='sys'   # replace with your DB name\n",
    ")\n",
    "\n",
    "# Create a cursor object\n",
    "cursor = conn.cursor()"
   ]
  },
  {
   "cell_type": "code",
   "execution_count": 131,
   "id": "4c585aeb-d8e5-492a-a325-e9c94dfe25d8",
   "metadata": {},
   "outputs": [
    {
     "name": "stdout",
     "output_type": "stream",
     "text": [
      "Data inserted successfully!\n"
     ]
    }
   ],
   "source": [
    "from datetime import datetime\n",
    "\n",
    "insert_query = \"\"\"\n",
    "INSERT INTO asteroids (\n",
    "    ID  ,\n",
    "    NAME ,\n",
    "    absolute_magnitude_h ,\n",
    "    estimated_diameter_min_km ,\n",
    "    estimated_diameter_max_km ,\n",
    "    is_potentially_hazardous_asteroid \n",
    ")\n",
    "VALUES (%s, %s, %s, %s, %s, %s)\n",
    "\"\"\"\n",
    "\n",
    "for asteroid in asteroids_data:\n",
    "\n",
    "    values = (\n",
    "        asteroid['id'],\n",
    "        asteroid['name'],\n",
    "        asteroid['magnitude'],\n",
    "        asteroid['dia_min'],\n",
    "        asteroid['dia_max'],\n",
    "        asteroid['is_potentially_hazardous_asteroid']\n",
    "    )\n",
    "    cursor.execute(insert_query, values)\n",
    "\n",
    "conn.commit()\n",
    "print(\"Data inserted successfully!\")"
   ]
  },
  {
   "cell_type": "code",
   "execution_count": 133,
   "id": "86f1ca1a-698c-48d7-bb67-5fcdfe6a3230",
   "metadata": {},
   "outputs": [
    {
     "name": "stdout",
     "output_type": "stream",
     "text": [
      "Data inserted successfully!\n"
     ]
    }
   ],
   "source": [
    "from datetime import datetime\n",
    "\n",
    "insert_query = \"\"\"\n",
    "INSERT INTO close_approach (\n",
    "   neo_reference_id ,\n",
    "    close_approach_date ,\n",
    "    relative_velocity_kmph ,\n",
    "    astronomical ,\n",
    "    miss_distance_km ,\n",
    "    miss_distance_lunar ,\n",
    "    orbiting_body \n",
    ")\n",
    "VALUES (%s, %s, %s, %s, %s, %s, %s)\n",
    "\"\"\"\n",
    "\n",
    "for asteroid in asteroids_data:\n",
    "    # Convert '01 May 2025' to '2025-05-01'\n",
    "    date_obj = datetime.strptime(asteroid['close_approach_date'], '%d %B %Y')\n",
    "    formatted_date = date_obj.strftime('%Y-%m-%d')\n",
    "\n",
    "    values = (\n",
    "        asteroid['neo_reference_id'],\n",
    "        formatted_date,\n",
    "        asteroid['relative_velocity'],\n",
    "        asteroid['astronomical'],\n",
    "        asteroid['miss_distance_km'],\n",
    "        asteroid['miss_distance_lunar'],\n",
    "        asteroid['orbiting_body']\n",
    "        \n",
    "    )\n",
    "    cursor.execute(insert_query, values)\n",
    "\n",
    "conn.commit()\n",
    "print(\"Data inserted successfully!\")"
   ]
  },
  {
   "cell_type": "code",
   "execution_count": 143,
   "id": "8c7bf3cf-01b2-44cf-a719-92da9711b753",
   "metadata": {},
   "outputs": [
    {
     "data": {
      "text/html": [
       "<div>\n",
       "<style scoped>\n",
       "    .dataframe tbody tr th:only-of-type {\n",
       "        vertical-align: middle;\n",
       "    }\n",
       "\n",
       "    .dataframe tbody tr th {\n",
       "        vertical-align: top;\n",
       "    }\n",
       "\n",
       "    .dataframe thead th {\n",
       "        text-align: right;\n",
       "    }\n",
       "</style>\n",
       "<table border=\"1\" class=\"dataframe\">\n",
       "  <thead>\n",
       "    <tr style=\"text-align: right;\">\n",
       "      <th></th>\n",
       "      <th>ID</th>\n",
       "      <th>NAME</th>\n",
       "      <th>absolute_magnitude_h</th>\n",
       "      <th>estimated_diameter_min_km</th>\n",
       "      <th>estimated_diameter_max_km</th>\n",
       "      <th>is_potentially_hazardous_asteroid</th>\n",
       "    </tr>\n",
       "  </thead>\n",
       "  <tbody>\n",
       "    <tr>\n",
       "      <th>0</th>\n",
       "      <td>2007977</td>\n",
       "      <td>7977 (1977 QQ5)</td>\n",
       "      <td>15.16</td>\n",
       "      <td>2.469190</td>\n",
       "      <td>5.521280</td>\n",
       "      <td>0</td>\n",
       "    </tr>\n",
       "    <tr>\n",
       "      <th>1</th>\n",
       "      <td>2008013</td>\n",
       "      <td>8013 Gordonmoore (1990 KA)</td>\n",
       "      <td>17.09</td>\n",
       "      <td>1.015210</td>\n",
       "      <td>2.270070</td>\n",
       "      <td>0</td>\n",
       "    </tr>\n",
       "    <tr>\n",
       "      <th>2</th>\n",
       "      <td>2008014</td>\n",
       "      <td>8014 (1990 MF)</td>\n",
       "      <td>18.88</td>\n",
       "      <td>0.445200</td>\n",
       "      <td>0.995497</td>\n",
       "      <td>1</td>\n",
       "    </tr>\n",
       "    <tr>\n",
       "      <th>3</th>\n",
       "      <td>2008034</td>\n",
       "      <td>8034 Akka (1992 LR)</td>\n",
       "      <td>18.02</td>\n",
       "      <td>0.661538</td>\n",
       "      <td>1.479240</td>\n",
       "      <td>0</td>\n",
       "    </tr>\n",
       "    <tr>\n",
       "      <th>4</th>\n",
       "      <td>2008035</td>\n",
       "      <td>8035 (1992 TB)</td>\n",
       "      <td>17.12</td>\n",
       "      <td>1.001280</td>\n",
       "      <td>2.238930</td>\n",
       "      <td>0</td>\n",
       "    </tr>\n",
       "    <tr>\n",
       "      <th>...</th>\n",
       "      <td>...</td>\n",
       "      <td>...</td>\n",
       "      <td>...</td>\n",
       "      <td>...</td>\n",
       "      <td>...</td>\n",
       "      <td>...</td>\n",
       "    </tr>\n",
       "    <tr>\n",
       "      <th>10008</th>\n",
       "      <td>3648841</td>\n",
       "      <td>(2013 TP4)</td>\n",
       "      <td>27.30</td>\n",
       "      <td>0.009216</td>\n",
       "      <td>0.020608</td>\n",
       "      <td>0</td>\n",
       "    </tr>\n",
       "    <tr>\n",
       "      <th>10009</th>\n",
       "      <td>3648843</td>\n",
       "      <td>(2013 TQ4)</td>\n",
       "      <td>27.40</td>\n",
       "      <td>0.008801</td>\n",
       "      <td>0.019681</td>\n",
       "      <td>0</td>\n",
       "    </tr>\n",
       "    <tr>\n",
       "      <th>10010</th>\n",
       "      <td>3648844</td>\n",
       "      <td>(2013 TR4)</td>\n",
       "      <td>23.24</td>\n",
       "      <td>0.059780</td>\n",
       "      <td>0.133672</td>\n",
       "      <td>0</td>\n",
       "    </tr>\n",
       "    <tr>\n",
       "      <th>10011</th>\n",
       "      <td>3648846</td>\n",
       "      <td>(2013 TS4)</td>\n",
       "      <td>20.90</td>\n",
       "      <td>0.175612</td>\n",
       "      <td>0.392681</td>\n",
       "      <td>0</td>\n",
       "    </tr>\n",
       "    <tr>\n",
       "      <th>10012</th>\n",
       "      <td>3648950</td>\n",
       "      <td>(2013 TG5)</td>\n",
       "      <td>19.80</td>\n",
       "      <td>0.291444</td>\n",
       "      <td>0.651688</td>\n",
       "      <td>0</td>\n",
       "    </tr>\n",
       "  </tbody>\n",
       "</table>\n",
       "<p>10013 rows × 6 columns</p>\n",
       "</div>"
      ],
      "text/plain": [
       "            ID                        NAME  absolute_magnitude_h  \\\n",
       "0      2007977             7977 (1977 QQ5)                 15.16   \n",
       "1      2008013  8013 Gordonmoore (1990 KA)                 17.09   \n",
       "2      2008014              8014 (1990 MF)                 18.88   \n",
       "3      2008034         8034 Akka (1992 LR)                 18.02   \n",
       "4      2008035              8035 (1992 TB)                 17.12   \n",
       "...        ...                         ...                   ...   \n",
       "10008  3648841                  (2013 TP4)                 27.30   \n",
       "10009  3648843                  (2013 TQ4)                 27.40   \n",
       "10010  3648844                  (2013 TR4)                 23.24   \n",
       "10011  3648846                  (2013 TS4)                 20.90   \n",
       "10012  3648950                  (2013 TG5)                 19.80   \n",
       "\n",
       "       estimated_diameter_min_km  estimated_diameter_max_km  \\\n",
       "0                       2.469190                   5.521280   \n",
       "1                       1.015210                   2.270070   \n",
       "2                       0.445200                   0.995497   \n",
       "3                       0.661538                   1.479240   \n",
       "4                       1.001280                   2.238930   \n",
       "...                          ...                        ...   \n",
       "10008                   0.009216                   0.020608   \n",
       "10009                   0.008801                   0.019681   \n",
       "10010                   0.059780                   0.133672   \n",
       "10011                   0.175612                   0.392681   \n",
       "10012                   0.291444                   0.651688   \n",
       "\n",
       "       is_potentially_hazardous_asteroid  \n",
       "0                                      0  \n",
       "1                                      0  \n",
       "2                                      1  \n",
       "3                                      0  \n",
       "4                                      0  \n",
       "...                                  ...  \n",
       "10008                                  0  \n",
       "10009                                  0  \n",
       "10010                                  0  \n",
       "10011                                  0  \n",
       "10012                                  0  \n",
       "\n",
       "[10013 rows x 6 columns]"
      ]
     },
     "execution_count": 143,
     "metadata": {},
     "output_type": "execute_result"
    }
   ],
   "source": [
    "# Clear any previous result sets\n",
    "while cursor.nextset():\n",
    "    pass\n",
    "# Execute and fetch the new result\n",
    "cursor.execute(\"SELECT * FROM asteroids\")\n",
    "rows = cursor.fetchall()\n",
    "\n",
    "# Display results using pandas\n",
    "import pandas as pd\n",
    "columns = [desc[0] for desc in cursor.description]\n",
    "df = pd.DataFrame(rows, columns=columns)\n",
    "df"
   ]
  },
  {
   "cell_type": "code",
   "execution_count": 127,
   "id": "a9552729-4bce-4120-938b-11c7df895b56",
   "metadata": {},
   "outputs": [],
   "source": [
    "cursor.execute(\"\"\"\n",
    "DELETE from asteroids\n",
    "\"\"\")"
   ]
  },
  {
   "cell_type": "code",
   "execution_count": 141,
   "id": "34394b23-661b-4a9f-b1cc-266a5574adfd",
   "metadata": {},
   "outputs": [],
   "source": [
    "cursor.execute(\"\"\"\n",
    "desc asteroids\n",
    "\"\"\")"
   ]
  },
  {
   "cell_type": "code",
   "execution_count": 129,
   "id": "9ac9d914-bc41-4e15-b22a-bb37a3023318",
   "metadata": {},
   "outputs": [],
   "source": [
    "cursor.execute(\"\"\"\n",
    "DELETE FROM close_approach\n",
    "\"\"\")"
   ]
  },
  {
   "cell_type": "code",
   "execution_count": null,
   "id": "74361dc5-c531-4dfb-ad07-a0270a4d85bc",
   "metadata": {},
   "outputs": [],
   "source": []
  }
 ],
 "metadata": {
  "kernelspec": {
   "display_name": "Python [conda env:base] *",
   "language": "python",
   "name": "conda-base-py"
  },
  "language_info": {
   "codemirror_mode": {
    "name": "ipython",
    "version": 3
   },
   "file_extension": ".py",
   "mimetype": "text/x-python",
   "name": "python",
   "nbconvert_exporter": "python",
   "pygments_lexer": "ipython3",
   "version": "3.12.7"
  }
 },
 "nbformat": 4,
 "nbformat_minor": 5
}
